{
 "cells": [
  {
   "cell_type": "code",
   "execution_count": 1,
   "id": "aef39ca4",
   "metadata": {},
   "outputs": [],
   "source": [
    "import numpy as np\n",
    "import pandas as pd\n",
    "import difflib\n",
    "from sklearn.feature_extraction.text import TfidfVectorizer\n",
    "from sklearn.metrics.pairwise import cosine_similarity"
   ]
  },
  {
   "cell_type": "code",
   "execution_count": 2,
   "id": "1a011b42",
   "metadata": {},
   "outputs": [],
   "source": [
    "data = pd.read_csv(\"movies.csv\")"
   ]
  },
  {
   "cell_type": "code",
   "execution_count": 3,
   "id": "b6baa8a2",
   "metadata": {},
   "outputs": [
    {
     "data": {
      "text/html": [
       "<div>\n",
       "<style scoped>\n",
       "    .dataframe tbody tr th:only-of-type {\n",
       "        vertical-align: middle;\n",
       "    }\n",
       "\n",
       "    .dataframe tbody tr th {\n",
       "        vertical-align: top;\n",
       "    }\n",
       "\n",
       "    .dataframe thead th {\n",
       "        text-align: right;\n",
       "    }\n",
       "</style>\n",
       "<table border=\"1\" class=\"dataframe\">\n",
       "  <thead>\n",
       "    <tr style=\"text-align: right;\">\n",
       "      <th></th>\n",
       "      <th>index</th>\n",
       "      <th>budget</th>\n",
       "      <th>genres</th>\n",
       "      <th>homepage</th>\n",
       "      <th>id</th>\n",
       "      <th>keywords</th>\n",
       "      <th>original_language</th>\n",
       "      <th>original_title</th>\n",
       "      <th>overview</th>\n",
       "      <th>popularity</th>\n",
       "      <th>...</th>\n",
       "      <th>runtime</th>\n",
       "      <th>spoken_languages</th>\n",
       "      <th>status</th>\n",
       "      <th>tagline</th>\n",
       "      <th>title</th>\n",
       "      <th>vote_average</th>\n",
       "      <th>vote_count</th>\n",
       "      <th>cast</th>\n",
       "      <th>crew</th>\n",
       "      <th>director</th>\n",
       "    </tr>\n",
       "  </thead>\n",
       "  <tbody>\n",
       "    <tr>\n",
       "      <th>0</th>\n",
       "      <td>0</td>\n",
       "      <td>237000000</td>\n",
       "      <td>Action Adventure Fantasy Science Fiction</td>\n",
       "      <td>http://www.avatarmovie.com/</td>\n",
       "      <td>19995</td>\n",
       "      <td>culture clash future space war space colony so...</td>\n",
       "      <td>en</td>\n",
       "      <td>Avatar</td>\n",
       "      <td>In the 22nd century, a paraplegic Marine is di...</td>\n",
       "      <td>150.437577</td>\n",
       "      <td>...</td>\n",
       "      <td>162.0</td>\n",
       "      <td>[{\"iso_639_1\": \"en\", \"name\": \"English\"}, {\"iso...</td>\n",
       "      <td>Released</td>\n",
       "      <td>Enter the World of Pandora.</td>\n",
       "      <td>Avatar</td>\n",
       "      <td>7.2</td>\n",
       "      <td>11800</td>\n",
       "      <td>Sam Worthington Zoe Saldana Sigourney Weaver S...</td>\n",
       "      <td>[{'name': 'Stephen E. Rivkin', 'gender': 0, 'd...</td>\n",
       "      <td>James Cameron</td>\n",
       "    </tr>\n",
       "    <tr>\n",
       "      <th>1</th>\n",
       "      <td>1</td>\n",
       "      <td>300000000</td>\n",
       "      <td>Adventure Fantasy Action</td>\n",
       "      <td>http://disney.go.com/disneypictures/pirates/</td>\n",
       "      <td>285</td>\n",
       "      <td>ocean drug abuse exotic island east india trad...</td>\n",
       "      <td>en</td>\n",
       "      <td>Pirates of the Caribbean: At World's End</td>\n",
       "      <td>Captain Barbossa, long believed to be dead, ha...</td>\n",
       "      <td>139.082615</td>\n",
       "      <td>...</td>\n",
       "      <td>169.0</td>\n",
       "      <td>[{\"iso_639_1\": \"en\", \"name\": \"English\"}]</td>\n",
       "      <td>Released</td>\n",
       "      <td>At the end of the world, the adventure begins.</td>\n",
       "      <td>Pirates of the Caribbean: At World's End</td>\n",
       "      <td>6.9</td>\n",
       "      <td>4500</td>\n",
       "      <td>Johnny Depp Orlando Bloom Keira Knightley Stel...</td>\n",
       "      <td>[{'name': 'Dariusz Wolski', 'gender': 2, 'depa...</td>\n",
       "      <td>Gore Verbinski</td>\n",
       "    </tr>\n",
       "    <tr>\n",
       "      <th>2</th>\n",
       "      <td>2</td>\n",
       "      <td>245000000</td>\n",
       "      <td>Action Adventure Crime</td>\n",
       "      <td>http://www.sonypictures.com/movies/spectre/</td>\n",
       "      <td>206647</td>\n",
       "      <td>spy based on novel secret agent sequel mi6</td>\n",
       "      <td>en</td>\n",
       "      <td>Spectre</td>\n",
       "      <td>A cryptic message from Bond’s past sends him o...</td>\n",
       "      <td>107.376788</td>\n",
       "      <td>...</td>\n",
       "      <td>148.0</td>\n",
       "      <td>[{\"iso_639_1\": \"fr\", \"name\": \"Fran\\u00e7ais\"},...</td>\n",
       "      <td>Released</td>\n",
       "      <td>A Plan No One Escapes</td>\n",
       "      <td>Spectre</td>\n",
       "      <td>6.3</td>\n",
       "      <td>4466</td>\n",
       "      <td>Daniel Craig Christoph Waltz L\\u00e9a Seydoux ...</td>\n",
       "      <td>[{'name': 'Thomas Newman', 'gender': 2, 'depar...</td>\n",
       "      <td>Sam Mendes</td>\n",
       "    </tr>\n",
       "    <tr>\n",
       "      <th>3</th>\n",
       "      <td>3</td>\n",
       "      <td>250000000</td>\n",
       "      <td>Action Crime Drama Thriller</td>\n",
       "      <td>http://www.thedarkknightrises.com/</td>\n",
       "      <td>49026</td>\n",
       "      <td>dc comics crime fighter terrorist secret ident...</td>\n",
       "      <td>en</td>\n",
       "      <td>The Dark Knight Rises</td>\n",
       "      <td>Following the death of District Attorney Harve...</td>\n",
       "      <td>112.312950</td>\n",
       "      <td>...</td>\n",
       "      <td>165.0</td>\n",
       "      <td>[{\"iso_639_1\": \"en\", \"name\": \"English\"}]</td>\n",
       "      <td>Released</td>\n",
       "      <td>The Legend Ends</td>\n",
       "      <td>The Dark Knight Rises</td>\n",
       "      <td>7.6</td>\n",
       "      <td>9106</td>\n",
       "      <td>Christian Bale Michael Caine Gary Oldman Anne ...</td>\n",
       "      <td>[{'name': 'Hans Zimmer', 'gender': 2, 'departm...</td>\n",
       "      <td>Christopher Nolan</td>\n",
       "    </tr>\n",
       "    <tr>\n",
       "      <th>4</th>\n",
       "      <td>4</td>\n",
       "      <td>260000000</td>\n",
       "      <td>Action Adventure Science Fiction</td>\n",
       "      <td>http://movies.disney.com/john-carter</td>\n",
       "      <td>49529</td>\n",
       "      <td>based on novel mars medallion space travel pri...</td>\n",
       "      <td>en</td>\n",
       "      <td>John Carter</td>\n",
       "      <td>John Carter is a war-weary, former military ca...</td>\n",
       "      <td>43.926995</td>\n",
       "      <td>...</td>\n",
       "      <td>132.0</td>\n",
       "      <td>[{\"iso_639_1\": \"en\", \"name\": \"English\"}]</td>\n",
       "      <td>Released</td>\n",
       "      <td>Lost in our world, found in another.</td>\n",
       "      <td>John Carter</td>\n",
       "      <td>6.1</td>\n",
       "      <td>2124</td>\n",
       "      <td>Taylor Kitsch Lynn Collins Samantha Morton Wil...</td>\n",
       "      <td>[{'name': 'Andrew Stanton', 'gender': 2, 'depa...</td>\n",
       "      <td>Andrew Stanton</td>\n",
       "    </tr>\n",
       "  </tbody>\n",
       "</table>\n",
       "<p>5 rows × 24 columns</p>\n",
       "</div>"
      ],
      "text/plain": [
       "   index     budget                                    genres  \\\n",
       "0      0  237000000  Action Adventure Fantasy Science Fiction   \n",
       "1      1  300000000                  Adventure Fantasy Action   \n",
       "2      2  245000000                    Action Adventure Crime   \n",
       "3      3  250000000               Action Crime Drama Thriller   \n",
       "4      4  260000000          Action Adventure Science Fiction   \n",
       "\n",
       "                                       homepage      id  \\\n",
       "0                   http://www.avatarmovie.com/   19995   \n",
       "1  http://disney.go.com/disneypictures/pirates/     285   \n",
       "2   http://www.sonypictures.com/movies/spectre/  206647   \n",
       "3            http://www.thedarkknightrises.com/   49026   \n",
       "4          http://movies.disney.com/john-carter   49529   \n",
       "\n",
       "                                            keywords original_language  \\\n",
       "0  culture clash future space war space colony so...                en   \n",
       "1  ocean drug abuse exotic island east india trad...                en   \n",
       "2         spy based on novel secret agent sequel mi6                en   \n",
       "3  dc comics crime fighter terrorist secret ident...                en   \n",
       "4  based on novel mars medallion space travel pri...                en   \n",
       "\n",
       "                             original_title  \\\n",
       "0                                    Avatar   \n",
       "1  Pirates of the Caribbean: At World's End   \n",
       "2                                   Spectre   \n",
       "3                     The Dark Knight Rises   \n",
       "4                               John Carter   \n",
       "\n",
       "                                            overview  popularity  ... runtime  \\\n",
       "0  In the 22nd century, a paraplegic Marine is di...  150.437577  ...   162.0   \n",
       "1  Captain Barbossa, long believed to be dead, ha...  139.082615  ...   169.0   \n",
       "2  A cryptic message from Bond’s past sends him o...  107.376788  ...   148.0   \n",
       "3  Following the death of District Attorney Harve...  112.312950  ...   165.0   \n",
       "4  John Carter is a war-weary, former military ca...   43.926995  ...   132.0   \n",
       "\n",
       "                                    spoken_languages    status  \\\n",
       "0  [{\"iso_639_1\": \"en\", \"name\": \"English\"}, {\"iso...  Released   \n",
       "1           [{\"iso_639_1\": \"en\", \"name\": \"English\"}]  Released   \n",
       "2  [{\"iso_639_1\": \"fr\", \"name\": \"Fran\\u00e7ais\"},...  Released   \n",
       "3           [{\"iso_639_1\": \"en\", \"name\": \"English\"}]  Released   \n",
       "4           [{\"iso_639_1\": \"en\", \"name\": \"English\"}]  Released   \n",
       "\n",
       "                                          tagline  \\\n",
       "0                     Enter the World of Pandora.   \n",
       "1  At the end of the world, the adventure begins.   \n",
       "2                           A Plan No One Escapes   \n",
       "3                                 The Legend Ends   \n",
       "4            Lost in our world, found in another.   \n",
       "\n",
       "                                      title vote_average vote_count  \\\n",
       "0                                    Avatar          7.2      11800   \n",
       "1  Pirates of the Caribbean: At World's End          6.9       4500   \n",
       "2                                   Spectre          6.3       4466   \n",
       "3                     The Dark Knight Rises          7.6       9106   \n",
       "4                               John Carter          6.1       2124   \n",
       "\n",
       "                                                cast  \\\n",
       "0  Sam Worthington Zoe Saldana Sigourney Weaver S...   \n",
       "1  Johnny Depp Orlando Bloom Keira Knightley Stel...   \n",
       "2  Daniel Craig Christoph Waltz L\\u00e9a Seydoux ...   \n",
       "3  Christian Bale Michael Caine Gary Oldman Anne ...   \n",
       "4  Taylor Kitsch Lynn Collins Samantha Morton Wil...   \n",
       "\n",
       "                                                crew           director  \n",
       "0  [{'name': 'Stephen E. Rivkin', 'gender': 0, 'd...      James Cameron  \n",
       "1  [{'name': 'Dariusz Wolski', 'gender': 2, 'depa...     Gore Verbinski  \n",
       "2  [{'name': 'Thomas Newman', 'gender': 2, 'depar...         Sam Mendes  \n",
       "3  [{'name': 'Hans Zimmer', 'gender': 2, 'departm...  Christopher Nolan  \n",
       "4  [{'name': 'Andrew Stanton', 'gender': 2, 'depa...     Andrew Stanton  \n",
       "\n",
       "[5 rows x 24 columns]"
      ]
     },
     "execution_count": 3,
     "metadata": {},
     "output_type": "execute_result"
    }
   ],
   "source": [
    "data.head()"
   ]
  },
  {
   "cell_type": "code",
   "execution_count": 4,
   "id": "59908529",
   "metadata": {},
   "outputs": [
    {
     "data": {
      "text/plain": [
       "(4803, 24)"
      ]
     },
     "execution_count": 4,
     "metadata": {},
     "output_type": "execute_result"
    }
   ],
   "source": [
    "data.shape"
   ]
  },
  {
   "cell_type": "code",
   "execution_count": 5,
   "id": "0777852a",
   "metadata": {},
   "outputs": [
    {
     "name": "stdout",
     "output_type": "stream",
     "text": [
      "['genres', 'keywords', 'tagline', 'cast', 'director', 'original_language']\n"
     ]
    }
   ],
   "source": [
    "# selecting the relevant features for recommendation\n",
    "\n",
    "selected_features = ['genres','keywords','tagline','cast','director','original_language']\n",
    "print(selected_features)"
   ]
  },
  {
   "cell_type": "code",
   "execution_count": 6,
   "id": "3850e512",
   "metadata": {},
   "outputs": [
    {
     "data": {
      "text/plain": [
       "index                      0\n",
       "budget                     0\n",
       "genres                    28\n",
       "homepage                3091\n",
       "id                         0\n",
       "keywords                 412\n",
       "original_language          0\n",
       "original_title             0\n",
       "overview                   3\n",
       "popularity                 0\n",
       "production_companies       0\n",
       "production_countries       0\n",
       "release_date               1\n",
       "revenue                    0\n",
       "runtime                    2\n",
       "spoken_languages           0\n",
       "status                     0\n",
       "tagline                  844\n",
       "title                      0\n",
       "vote_average               0\n",
       "vote_count                 0\n",
       "cast                      43\n",
       "crew                       0\n",
       "director                  30\n",
       "dtype: int64"
      ]
     },
     "execution_count": 6,
     "metadata": {},
     "output_type": "execute_result"
    }
   ],
   "source": [
    "data.isnull().sum()"
   ]
  },
  {
   "cell_type": "code",
   "execution_count": 7,
   "id": "595f40c4",
   "metadata": {},
   "outputs": [],
   "source": [
    "data=data.fillna(\"\")"
   ]
  },
  {
   "cell_type": "code",
   "execution_count": 8,
   "id": "86e527b6",
   "metadata": {},
   "outputs": [],
   "source": [
    "# combining all the selected features\n",
    "\n",
    "combined_features = data['genres']+' '+data['keywords']+' '+data['tagline']+' '+data['cast']+' '+data['director']+' '+data['original_language']"
   ]
  },
  {
   "cell_type": "code",
   "execution_count": 9,
   "id": "067e7505",
   "metadata": {},
   "outputs": [
    {
     "name": "stdout",
     "output_type": "stream",
     "text": [
      "0       Action Adventure Fantasy Science Fiction cultu...\n",
      "1       Adventure Fantasy Action ocean drug abuse exot...\n",
      "2       Action Adventure Crime spy based on novel secr...\n",
      "3       Action Crime Drama Thriller dc comics crime fi...\n",
      "4       Action Adventure Science Fiction based on nove...\n",
      "                              ...                        \n",
      "4798    Action Crime Thriller united states\\u2013mexic...\n",
      "4799    Comedy Romance  A newlywed couple's honeymoon ...\n",
      "4800    Comedy Drama Romance TV Movie date love at fir...\n",
      "4801      A New Yorker in Shanghai Daniel Henney Eliza...\n",
      "4802    Documentary obsession camcorder crush dream gi...\n",
      "Length: 4803, dtype: object\n"
     ]
    }
   ],
   "source": [
    "print(combined_features)"
   ]
  },
  {
   "cell_type": "code",
   "execution_count": 10,
   "id": "a3116904",
   "metadata": {},
   "outputs": [],
   "source": [
    "#CONVERTING TEXT DATA INTO VECTOR\n",
    "vectorizer = TfidfVectorizer()"
   ]
  },
  {
   "cell_type": "code",
   "execution_count": 11,
   "id": "73cbaca8",
   "metadata": {},
   "outputs": [
    {
     "data": {
      "text/plain": [
       "TfidfVectorizer()"
      ]
     },
     "execution_count": 11,
     "metadata": {},
     "output_type": "execute_result"
    }
   ],
   "source": [
    "vectorizer.fit(combined_features)"
   ]
  },
  {
   "cell_type": "code",
   "execution_count": 12,
   "id": "b928737b",
   "metadata": {},
   "outputs": [],
   "source": [
    "feature_vectors=vectorizer.transform(combined_features)"
   ]
  },
  {
   "cell_type": "code",
   "execution_count": 13,
   "id": "98340d1a",
   "metadata": {},
   "outputs": [
    {
     "name": "stdout",
     "output_type": "stream",
     "text": [
      "  (0, 17312)\t0.20185863312549773\n",
      "  (0, 17027)\t0.2362922168681942\n",
      "  (0, 17018)\t0.12813614591803602\n",
      "  (0, 16688)\t0.19831426292450674\n",
      "  (0, 16607)\t0.12541945881301636\n",
      "  (0, 15279)\t0.07091600479711815\n",
      "  (0, 14624)\t0.15141634132650292\n",
      "  (0, 14394)\t0.33942491434120725\n",
      "  (0, 14287)\t0.21379417528322503\n",
      "  (0, 14079)\t0.20583803637232165\n",
      "  (0, 13614)\t0.10357957054889588\n",
      "  (0, 13364)\t0.15012303027709262\n",
      "  (0, 13334)\t0.2176171550320001\n",
      "  (0, 13038)\t0.19412033270357637\n",
      "  (0, 11513)\t0.27195076912003546\n",
      "  (0, 11202)\t0.09043921375601767\n",
      "  (0, 10237)\t0.16049105450885073\n",
      "  (0, 8764)\t0.22695468595009713\n",
      "  (0, 7763)\t0.11273627752842749\n",
      "  (0, 5843)\t0.16457685199337505\n",
      "  (0, 5444)\t0.10357957054889588\n",
      "  (0, 5281)\t0.11101935834163779\n",
      "  (0, 4950)\t0.24011519661696928\n",
      "  (0, 4911)\t0.03453638093174035\n",
      "  (0, 3682)\t0.21379417528322503\n",
      "  :\t:\n",
      "  (4801, 7276)\t0.3023734789665445\n",
      "  (4801, 6942)\t0.2884161588693086\n",
      "  (4801, 4911)\t0.03662740267957542\n",
      "  (4801, 4839)\t0.24697181882054411\n",
      "  (4801, 3800)\t0.3340565935833613\n",
      "  (4801, 3514)\t0.3023734789665445\n",
      "  (4801, 1674)\t0.15637434380345686\n",
      "  (4801, 404)\t0.177156898310652\n",
      "  (4802, 13003)\t0.1695466461468222\n",
      "  (4802, 11171)\t0.17856769547744536\n",
      "  (4802, 7003)\t0.5696654455707391\n",
      "  (4802, 6424)\t0.21740454056709968\n",
      "  (4802, 6162)\t0.18045712899884606\n",
      "  (4802, 5374)\t0.22955438834041952\n",
      "  (4802, 4985)\t0.16068480876306446\n",
      "  (4802, 4911)\t0.03450263849011014\n",
      "  (4802, 4612)\t0.23988060130652294\n",
      "  (4802, 4532)\t0.19492847982767642\n",
      "  (4802, 4522)\t0.16774473252030023\n",
      "  (4802, 4375)\t0.1537323325406273\n",
      "  (4802, 3657)\t0.2623566620459462\n",
      "  (4802, 3439)\t0.21740454056709968\n",
      "  (4802, 2427)\t0.23988060130652294\n",
      "  (4802, 2131)\t0.309781061415469\n",
      "  (4802, 1318)\t0.1959579663375107\n"
     ]
    }
   ],
   "source": [
    "print(feature_vectors)"
   ]
  },
  {
   "cell_type": "markdown",
   "id": "35accab6",
   "metadata": {},
   "source": [
    "# COSINE SIMILARITY"
   ]
  },
  {
   "cell_type": "code",
   "execution_count": 14,
   "id": "a97b5567",
   "metadata": {},
   "outputs": [],
   "source": [
    "similarity = cosine_similarity(feature_vectors)"
   ]
  },
  {
   "cell_type": "code",
   "execution_count": 15,
   "id": "3e552613",
   "metadata": {},
   "outputs": [
    {
     "name": "stdout",
     "output_type": "stream",
     "text": [
      "[[1.         0.0731602  0.03890829 ... 0.0012222  0.00126498 0.0011916 ]\n",
      " [0.0731602  1.         0.03384574 ... 0.0367837  0.00110423 0.00104018]\n",
      " [0.03890829 0.03384574 1.         ... 0.00125046 0.05512248 0.00121915]\n",
      " ...\n",
      " [0.0012222  0.0367837  0.00125046 ... 1.         0.00129619 0.02770363]\n",
      " [0.00126498 0.00110423 0.05512248 ... 0.00129619 1.         0.00126374]\n",
      " [0.0011916  0.00104018 0.00121915 ... 0.02770363 0.00126374 1.        ]]\n"
     ]
    }
   ],
   "source": [
    "print(similarity)"
   ]
  },
  {
   "cell_type": "markdown",
   "id": "ab800e3b",
   "metadata": {},
   "source": [
    "GETTING THE MOVIE NAME FROM THE USER\n"
   ]
  },
  {
   "cell_type": "code",
   "execution_count": 16,
   "id": "9115cd9d",
   "metadata": {},
   "outputs": [],
   "source": [
    "# creating a list with all the movie names given in the dataset\n",
    "list_of_all_titles=list(data['original_title'].values)"
   ]
  },
  {
   "cell_type": "code",
   "execution_count": 17,
   "id": "57b7a9dc",
   "metadata": {},
   "outputs": [
    {
     "name": "stdout",
     "output_type": "stream",
     "text": [
      "Enter your favorite movie : iron man\n"
     ]
    }
   ],
   "source": [
    "movie=input(\"Enter your favorite movie : \")"
   ]
  },
  {
   "cell_type": "code",
   "execution_count": 18,
   "id": "5058b4b6",
   "metadata": {},
   "outputs": [
    {
     "name": "stdout",
     "output_type": "stream",
     "text": [
      "['Iron Man', 'Iron Man 3', 'Iron Man 2']\n"
     ]
    }
   ],
   "source": [
    "#Getting similar movies\n",
    "find_similar_movies=difflib.get_close_matches(movie,list_of_all_titles)\n",
    "print(find_similar_movies)"
   ]
  },
  {
   "cell_type": "code",
   "execution_count": 19,
   "id": "7a5e7d80",
   "metadata": {},
   "outputs": [
    {
     "data": {
      "text/plain": [
       "'Iron Man'"
      ]
     },
     "execution_count": 19,
     "metadata": {},
     "output_type": "execute_result"
    }
   ],
   "source": [
    "close_match=find_similar_movies[0]\n",
    "close_match"
   ]
  },
  {
   "cell_type": "code",
   "execution_count": 20,
   "id": "de6971af",
   "metadata": {},
   "outputs": [],
   "source": [
    "# getting the index of the movie\n",
    "index_of_movie=data[data.title == close_match]['index'].values[0]"
   ]
  },
  {
   "cell_type": "code",
   "execution_count": 21,
   "id": "48117aa8",
   "metadata": {},
   "outputs": [
    {
     "name": "stdout",
     "output_type": "stream",
     "text": [
      "68\n"
     ]
    }
   ],
   "source": [
    "print(index_of_movie)"
   ]
  },
  {
   "cell_type": "code",
   "execution_count": 22,
   "id": "f91a9b39",
   "metadata": {
    "scrolled": false
   },
   "outputs": [],
   "source": [
    "#getting similar score\n",
    "similarity_score=list(enumerate(similarity[index_of_movie]))"
   ]
  },
  {
   "cell_type": "code",
   "execution_count": 23,
   "id": "4b11fbfc",
   "metadata": {},
   "outputs": [
    {
     "data": {
      "text/plain": [
       "4803"
      ]
     },
     "execution_count": 23,
     "metadata": {},
     "output_type": "execute_result"
    }
   ],
   "source": [
    "len(similarity_score)"
   ]
  },
  {
   "cell_type": "code",
   "execution_count": 29,
   "id": "9867ae47",
   "metadata": {},
   "outputs": [
    {
     "name": "stdout",
     "output_type": "stream",
     "text": [
      "(813, 1.0000000000000002)\n"
     ]
    }
   ],
   "source": [
    "#sorting movies based on their similar score\n",
    "sorted_similar_movies=sorted(similarity_score,key=lambda x:x[1],reverse=True)\n",
    "print(sorted_similar_movies[0]) #example of how the sorted_similar_movies data will look like"
   ]
  },
  {
   "cell_type": "code",
   "execution_count": 25,
   "id": "c2a3ee9a",
   "metadata": {},
   "outputs": [
    {
     "name": "stdout",
     "output_type": "stream",
     "text": [
      "So, you liked  Iron Man \n",
      " Here are 30 best suggestions for you : \n",
      "\n",
      "1 .  Iron Man\n",
      "2 .  Iron Man 2\n",
      "3 .  Iron Man 3\n",
      "4 .  Avengers: Age of Ultron\n",
      "5 .  The Avengers\n",
      "6 .  Captain America: Civil War\n",
      "7 .  Captain America: The Winter Soldier\n",
      "8 .  Ant-Man\n",
      "9 .  X-Men\n",
      "10 .  Made\n",
      "11 .  X-Men: Apocalypse\n",
      "12 .  X2\n",
      "13 .  The Helix... Loaded\n",
      "14 .  The Incredible Hulk\n",
      "15 .  X-Men: First Class\n",
      "16 .  X-Men: Days of Future Past\n",
      "17 .  Captain America: The First Avenger\n",
      "18 .  Kick-Ass 2\n",
      "19 .  Guardians of the Galaxy\n",
      "20 .  Deadpool\n",
      "21 .  Thor: The Dark World\n",
      "22 .  G-Force\n",
      "23 .  X-Men: The Last Stand\n",
      "24 .  Duets\n",
      "25 .  Mortdecai\n",
      "26 .  The Last Airbender\n",
      "27 .  Southland Tales\n",
      "28 .  Zathura: A Space Adventure\n",
      "29 .  Sky Captain and the World of Tomorrow\n",
      "30 .  The Amazing Spider-Man 2\n"
     ]
    }
   ],
   "source": [
    "#Printing the similar movies\n",
    "print(\"So, you liked \",close_match,\"\\n Here are 30 best suggestions for you : \\n\")\n",
    "i=1\n",
    "for movie in sorted_similar_movies:\n",
    "    index=movie[0]\n",
    "    suggested_movie=data[data.index==index]['title'].values[0]\n",
    "    if (i<=30):\n",
    "        print(i,'. ',suggested_movie)\n",
    "        i=i+1"
   ]
  },
  {
   "cell_type": "markdown",
   "id": "98d05f60",
   "metadata": {},
   "source": [
    "# Movie Recommendation System"
   ]
  },
  {
   "cell_type": "code",
   "execution_count": 26,
   "id": "80a024d3",
   "metadata": {
    "scrolled": true
   },
   "outputs": [],
   "source": [
    "mm=data['title'].tolist()\n",
    "names=pd.DataFrame(mm,columns=['movie_name'])"
   ]
  },
  {
   "cell_type": "code",
   "execution_count": 27,
   "id": "45c646b1",
   "metadata": {},
   "outputs": [
    {
     "data": {
      "text/html": [
       "<div>\n",
       "<style scoped>\n",
       "    .dataframe tbody tr th:only-of-type {\n",
       "        vertical-align: middle;\n",
       "    }\n",
       "\n",
       "    .dataframe tbody tr th {\n",
       "        vertical-align: top;\n",
       "    }\n",
       "\n",
       "    .dataframe thead th {\n",
       "        text-align: right;\n",
       "    }\n",
       "</style>\n",
       "<table border=\"1\" class=\"dataframe\">\n",
       "  <thead>\n",
       "    <tr style=\"text-align: right;\">\n",
       "      <th></th>\n",
       "      <th>movie_name</th>\n",
       "    </tr>\n",
       "  </thead>\n",
       "  <tbody>\n",
       "    <tr>\n",
       "      <th>0</th>\n",
       "      <td>Avatar</td>\n",
       "    </tr>\n",
       "    <tr>\n",
       "      <th>1</th>\n",
       "      <td>Pirates of the Caribbean: At World's End</td>\n",
       "    </tr>\n",
       "    <tr>\n",
       "      <th>2</th>\n",
       "      <td>Spectre</td>\n",
       "    </tr>\n",
       "    <tr>\n",
       "      <th>3</th>\n",
       "      <td>The Dark Knight Rises</td>\n",
       "    </tr>\n",
       "    <tr>\n",
       "      <th>4</th>\n",
       "      <td>John Carter</td>\n",
       "    </tr>\n",
       "    <tr>\n",
       "      <th>...</th>\n",
       "      <td>...</td>\n",
       "    </tr>\n",
       "    <tr>\n",
       "      <th>4798</th>\n",
       "      <td>El Mariachi</td>\n",
       "    </tr>\n",
       "    <tr>\n",
       "      <th>4799</th>\n",
       "      <td>Newlyweds</td>\n",
       "    </tr>\n",
       "    <tr>\n",
       "      <th>4800</th>\n",
       "      <td>Signed, Sealed, Delivered</td>\n",
       "    </tr>\n",
       "    <tr>\n",
       "      <th>4801</th>\n",
       "      <td>Shanghai Calling</td>\n",
       "    </tr>\n",
       "    <tr>\n",
       "      <th>4802</th>\n",
       "      <td>My Date with Drew</td>\n",
       "    </tr>\n",
       "  </tbody>\n",
       "</table>\n",
       "<p>4803 rows × 1 columns</p>\n",
       "</div>"
      ],
      "text/plain": [
       "                                    movie_name\n",
       "0                                       Avatar\n",
       "1     Pirates of the Caribbean: At World's End\n",
       "2                                      Spectre\n",
       "3                        The Dark Knight Rises\n",
       "4                                  John Carter\n",
       "...                                        ...\n",
       "4798                               El Mariachi\n",
       "4799                                 Newlyweds\n",
       "4800                 Signed, Sealed, Delivered\n",
       "4801                          Shanghai Calling\n",
       "4802                         My Date with Drew\n",
       "\n",
       "[4803 rows x 1 columns]"
      ]
     },
     "execution_count": 27,
     "metadata": {},
     "output_type": "execute_result"
    }
   ],
   "source": [
    "names"
   ]
  },
  {
   "cell_type": "code",
   "execution_count": 28,
   "id": "51f03b1b",
   "metadata": {},
   "outputs": [
    {
     "name": "stdout",
     "output_type": "stream",
     "text": [
      " Enter your favourite movie name : superman\n",
      "So, you liked  Superman \n",
      " Here are 30 best suggestions for you : \n",
      "\n",
      "1 .  Superman\n",
      "2 .  Superman II\n",
      "3 .  Superman IV: The Quest for Peace\n",
      "4 .  Man of Steel\n",
      "5 .  Superman III\n",
      "6 .  Crimson Tide\n",
      "7 .  Superman Returns\n",
      "8 .  Batman Returns\n",
      "9 .  Suicide Squad\n",
      "10 .  The Killer Inside Me\n",
      "11 .  The Dark Knight Rises\n",
      "12 .  Nanny McPhee and the Big Bang\n",
      "13 .  Batman Begins\n",
      "14 .  The Dark Knight\n",
      "15 .  The Godfather\n",
      "16 .  The Helix... Loaded\n",
      "17 .  Batman\n",
      "18 .  Batman\n",
      "19 .  Batman & Robin\n",
      "20 .  The Island of Dr. Moreau\n",
      "21 .  The Hunting Party\n",
      "22 .  The Abyss\n",
      "23 .  Steel\n",
      "24 .  Lethal Weapon 4\n",
      "25 .  Dick Tracy\n",
      "26 .  On the Waterfront\n",
      "27 .  1941\n",
      "28 .  Star Trek IV: The Voyage Home\n",
      "29 .  Don Juan DeMarco\n",
      "30 .  The Peacemaker\n"
     ]
    }
   ],
   "source": [
    "movie_name = input(' Enter your favourite movie name : ')\n",
    "\n",
    "list_of_all_titles=list(data['original_title'].values)\n",
    "\n",
    "find_similar_movies=difflib.get_close_matches(movie_name,list_of_all_titles)\n",
    "\n",
    "\n",
    "close_match = find_similar_movies[0]\n",
    "\n",
    "index_of_movie=data[data.title == close_match]['index'].values[0]\n",
    "\n",
    "similarity_score=list(enumerate(similarity[index_of_movie]))\n",
    "\n",
    "sorted_similar_movies=sorted(similarity_score,key=lambda x:x[1],reverse=True)\n",
    "\n",
    "print(\"So, you liked \",close_match,\"\\n Here are 30 best suggestions for you : \\n\")\n",
    "i=1\n",
    "for movie in sorted_similar_movies:\n",
    "    index=movie[0]\n",
    "    suggested_movie=data[data.index==index]['title'].values[0]\n",
    "    if (i<=30):\n",
    "        print(i,'. ',suggested_movie)\n",
    "        i=i+1"
   ]
  },
  {
   "cell_type": "code",
   "execution_count": null,
   "id": "d6724f16",
   "metadata": {},
   "outputs": [],
   "source": []
  }
 ],
 "metadata": {
  "kernelspec": {
   "display_name": "Python 3 (ipykernel)",
   "language": "python",
   "name": "python3"
  },
  "language_info": {
   "codemirror_mode": {
    "name": "ipython",
    "version": 3
   },
   "file_extension": ".py",
   "mimetype": "text/x-python",
   "name": "python",
   "nbconvert_exporter": "python",
   "pygments_lexer": "ipython3",
   "version": "3.9.7"
  }
 },
 "nbformat": 4,
 "nbformat_minor": 5
}
